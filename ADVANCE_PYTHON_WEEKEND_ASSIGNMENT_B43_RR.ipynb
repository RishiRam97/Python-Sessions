{
 "cells": [
  {
   "cell_type": "code",
   "execution_count": null,
   "metadata": {},
   "outputs": [],
   "source": [
    "#Problem Statement:1"
   ]
  },
  {
   "cell_type": "code",
   "execution_count": null,
   "metadata": {},
   "outputs": [],
   "source": [
    "#CITY NAMES:"
   ]
  },
  {
   "cell_type": "code",
   "execution_count": 1,
   "metadata": {},
   "outputs": [],
   "source": [
    "#creating a function called city_()that takes in the name of a city and its country.\n",
    "#The function should return a string format. call your function with atleast 3 city-contry pairs and print"
   ]
  },
  {
   "cell_type": "code",
   "execution_count": 2,
   "metadata": {},
   "outputs": [],
   "source": [
    "def city_country(cityname,countryname):\n",
    "    \"\"\"creating a function to display a cityname and its countryname\"\"\"\n",
    "    contents = f\"{cityname.title()},{countryname.title()}\"\n",
    "    return contents"
   ]
  },
  {
   "cell_type": "code",
   "execution_count": 3,
   "metadata": {},
   "outputs": [],
   "source": [
    "city1 = city_country(\"hyderabad\",\"india\")\n",
    "city2 = city_country(\"new york\",\"usa\")\n",
    "city3 = city_country(\"toronto\",\"canada\")"
   ]
  },
  {
   "cell_type": "code",
   "execution_count": 4,
   "metadata": {},
   "outputs": [
    {
     "name": "stdout",
     "output_type": "stream",
     "text": [
      "Hyderabad,India\n",
      "New York,Usa\n",
      "Toronto,Canada\n"
     ]
    }
   ],
   "source": [
    "print(city1)\n",
    "print(city2)\n",
    "print(city3)"
   ]
  },
  {
   "cell_type": "code",
   "execution_count": null,
   "metadata": {},
   "outputs": [],
   "source": []
  },
  {
   "cell_type": "code",
   "execution_count": null,
   "metadata": {},
   "outputs": [],
   "source": []
  },
  {
   "cell_type": "code",
   "execution_count": null,
   "metadata": {},
   "outputs": [],
   "source": [
    "#Problem Statement:2"
   ]
  },
  {
   "cell_type": "code",
   "execution_count": null,
   "metadata": {},
   "outputs": [],
   "source": [
    "#Concept: Arbitary Arguments"
   ]
  },
  {
   "cell_type": "code",
   "execution_count": 5,
   "metadata": {},
   "outputs": [],
   "source": [
    "#Sandwiches: Write a function that accepts a list of items a person wants on a sandwich."
   ]
  },
  {
   "cell_type": "code",
   "execution_count": 6,
   "metadata": {},
   "outputs": [],
   "source": [
    "def customer_sandwich(ingredients, choices):\n",
    "    \"\"\"creating a function to display a sandwich choosen by customer\"\"\"\n",
    "    contents = f\"{ingredients.title()},{choices.title()}\"\n",
    "    return contents"
   ]
  },
  {
   "cell_type": "code",
   "execution_count": 7,
   "metadata": {},
   "outputs": [],
   "source": [
    "arg1 = customer_sandwich(\"bread\",\"parmesan bread\")\n",
    "arg2 = customer_sandwich(\"veggies\",\"oninon,tomato,capsicum,lettuce\")\n",
    "arg3 = customer_sandwich(\"spread\",\"mayo,pizza spread,mustard\")"
   ]
  },
  {
   "cell_type": "code",
   "execution_count": 8,
   "metadata": {},
   "outputs": [
    {
     "name": "stdout",
     "output_type": "stream",
     "text": [
      "Bread,Parmesan Bread\n",
      "Veggies,Oninon,Tomato,Capsicum,Lettuce\n",
      "Spread,Mayo,Pizza Spread,Mustard\n"
     ]
    }
   ],
   "source": [
    "print(arg1,arg2,arg3, sep='\\n')"
   ]
  },
  {
   "cell_type": "code",
   "execution_count": null,
   "metadata": {},
   "outputs": [],
   "source": []
  },
  {
   "cell_type": "code",
   "execution_count": null,
   "metadata": {},
   "outputs": [],
   "source": []
  },
  {
   "cell_type": "code",
   "execution_count": null,
   "metadata": {},
   "outputs": [],
   "source": [
    "#Problem Statement:3"
   ]
  },
  {
   "cell_type": "code",
   "execution_count": 9,
   "metadata": {},
   "outputs": [],
   "source": [
    "#9-1.Restaurant: Make a class called Restaurant.The__init__()method for Restaurant should store two attributes: a \n",
    "                #restuarnt_name and cuisine_type."
   ]
  },
  {
   "cell_type": "code",
   "execution_count": 10,
   "metadata": {},
   "outputs": [],
   "source": [
    "class Restaurant():\n",
    "    \"\"\"A class to store two attributes of a restaurant and have two methods (behaviours)\"\"\"\n",
    "    def __init__(self,restaurant_name,cuisine_type):\n",
    "        self.restaurant_name = restaurant_name\n",
    "        self.cuisine_type = cuisine_type\n",
    "        \n",
    "    def describe_restaurant(self):\n",
    "        print(f\"{self.restaurant_name.title()} serves {self.cuisine_type.title()} food.\")\n",
    "        \n",
    "    def open_restaurant(self):\n",
    "        print(f\"{self.restaurant_name.title()} is open now.\")"
   ]
  },
  {
   "cell_type": "code",
   "execution_count": 14,
   "metadata": {},
   "outputs": [
    {
     "name": "stdout",
     "output_type": "stream",
     "text": [
      "Prego serves Italian food.\n"
     ]
    }
   ],
   "source": [
    "aobj = Restaurant('prego','italian')\n",
    "aobj.describe_restaurant()"
   ]
  },
  {
   "cell_type": "code",
   "execution_count": 15,
   "metadata": {},
   "outputs": [
    {
     "name": "stdout",
     "output_type": "stream",
     "text": [
      "Prego is open now.\n"
     ]
    }
   ],
   "source": [
    "aobj.open_restaurant()"
   ]
  },
  {
   "cell_type": "code",
   "execution_count": null,
   "metadata": {},
   "outputs": [],
   "source": []
  },
  {
   "cell_type": "code",
   "execution_count": 16,
   "metadata": {},
   "outputs": [],
   "source": [
    "#9.2 Three Restaurants: Start with your class from exercise 9-1."
   ]
  },
  {
   "cell_type": "code",
   "execution_count": 18,
   "metadata": {},
   "outputs": [],
   "source": [
    "r1 = Restaurant('zega','asian')\n",
    "r2 = Restaurant('tuscany','italian')\n",
    "r3 = Restaurant('cashbah','mediterranean')"
   ]
  },
  {
   "cell_type": "code",
   "execution_count": 20,
   "metadata": {},
   "outputs": [
    {
     "name": "stdout",
     "output_type": "stream",
     "text": [
      "Zega serves Asian food.\n",
      "Tuscany serves Italian food.\n",
      "Cashbah serves Mediterranean food.\n"
     ]
    }
   ],
   "source": [
    "r1.describe_restaurant()\n",
    "r2.describe_restaurant()\n",
    "r3.describe_restaurant()"
   ]
  },
  {
   "cell_type": "code",
   "execution_count": null,
   "metadata": {},
   "outputs": [],
   "source": []
  },
  {
   "cell_type": "code",
   "execution_count": 21,
   "metadata": {},
   "outputs": [],
   "source": [
    "#9.3 Make a class called user. Create two attributes called first_name & last_name and then create several other attributes\n",
    "#  that are typically stored in a user profile. Make a method called describe_user() that prints a summary of the user info."
   ]
  },
  {
   "cell_type": "code",
   "execution_count": 23,
   "metadata": {},
   "outputs": [],
   "source": [
    "class user():\n",
    "    \"\"\"create class user with two attributes first_name and last_name\"\"\"\n",
    "    def __init__(self, first_name, last_name, gender, email_address):\n",
    "        self.first_name = first_name\n",
    "        self.last_name = last_name\n",
    "        self.gender = gender\n",
    "        self.email_address = email_address\n",
    "        \n",
    "    def describe_user(self):\n",
    "        print(f\"Hello {self.first_name.title()} {self.last_name.title()}\")\n",
    "        \n",
    "    def greet_user(self):\n",
    "        print(f\"Welcome {self.first_name.title()} {self.last_name.title()} to our website\")"
   ]
  },
  {
   "cell_type": "code",
   "execution_count": 35,
   "metadata": {},
   "outputs": [],
   "source": [
    "myuser = user(\"santosh\",\"raj\",\"male\",\"sanraj@gmail.com\")"
   ]
  },
  {
   "cell_type": "code",
   "execution_count": 25,
   "metadata": {},
   "outputs": [
    {
     "name": "stdout",
     "output_type": "stream",
     "text": [
      "Hello Santosh Raj\n"
     ]
    }
   ],
   "source": [
    "myuser.describe_user()"
   ]
  },
  {
   "cell_type": "code",
   "execution_count": 26,
   "metadata": {},
   "outputs": [
    {
     "name": "stdout",
     "output_type": "stream",
     "text": [
      "Welcome Santosh Raj to our website\n"
     ]
    }
   ],
   "source": [
    "myuser.greet_user()"
   ]
  },
  {
   "cell_type": "code",
   "execution_count": null,
   "metadata": {},
   "outputs": [],
   "source": []
  },
  {
   "cell_type": "code",
   "execution_count": 27,
   "metadata": {},
   "outputs": [],
   "source": [
    "newuser = user(\"deepti\",\"manojh\",\"female\",\"deepum@gmail.com\")"
   ]
  },
  {
   "cell_type": "code",
   "execution_count": 28,
   "metadata": {},
   "outputs": [
    {
     "name": "stdout",
     "output_type": "stream",
     "text": [
      "Hello Deepti Manojh\n"
     ]
    }
   ],
   "source": [
    "newuser.describe_user()"
   ]
  },
  {
   "cell_type": "code",
   "execution_count": 29,
   "metadata": {},
   "outputs": [
    {
     "name": "stdout",
     "output_type": "stream",
     "text": [
      "Welcome Deepti Manojh to our website\n"
     ]
    }
   ],
   "source": [
    "newuser.greet_user()"
   ]
  },
  {
   "cell_type": "code",
   "execution_count": null,
   "metadata": {},
   "outputs": [],
   "source": []
  },
  {
   "cell_type": "code",
   "execution_count": 31,
   "metadata": {},
   "outputs": [],
   "source": [
    "presentuser = user(\"ujjval\",\"lankipalli\",\"male\",\"ulankipalli@gmail.com\")"
   ]
  },
  {
   "cell_type": "code",
   "execution_count": 32,
   "metadata": {},
   "outputs": [
    {
     "name": "stdout",
     "output_type": "stream",
     "text": [
      "Hello Ujjval Lankipalli\n"
     ]
    }
   ],
   "source": [
    "presentuser.describe_user()"
   ]
  },
  {
   "cell_type": "code",
   "execution_count": 34,
   "metadata": {},
   "outputs": [
    {
     "name": "stdout",
     "output_type": "stream",
     "text": [
      "Welcome Ujjval Lankipalli to our website\n"
     ]
    }
   ],
   "source": [
    "presentuser.greet_user()"
   ]
  },
  {
   "cell_type": "code",
   "execution_count": null,
   "metadata": {},
   "outputs": [],
   "source": []
  },
  {
   "cell_type": "code",
   "execution_count": 36,
   "metadata": {},
   "outputs": [],
   "source": [
    "class user():\n",
    "    \"\"\"create class user with two attributes first_name and last_name\"\"\"\n",
    "    def __init__(self, first_name, last_name, gender, email_address):\n",
    "        self.first_name = first_name\n",
    "        self.last_name = last_name\n",
    "        self.gender = gender\n",
    "        self.email_address = email_address\n",
    "        \n",
    "    def describe_user(self):\n",
    "        print(f\"Hello {self.first_name.title()} {self.last_name.title()}\")\n",
    "        \n",
    "    def greet_user(self):\n",
    "        print(f\"Welcome back {self.first_name.title()} {self.last_name.title()} to our website\")"
   ]
  },
  {
   "cell_type": "code",
   "execution_count": 37,
   "metadata": {},
   "outputs": [],
   "source": [
    "olduser = user(\"nitish\",\"tiwari\",\"male\",\"nitishtiwari@gmail.com\")"
   ]
  },
  {
   "cell_type": "code",
   "execution_count": 39,
   "metadata": {},
   "outputs": [
    {
     "name": "stdout",
     "output_type": "stream",
     "text": [
      "Hello Nitish Tiwari\n"
     ]
    }
   ],
   "source": [
    "olduser.describe_user()"
   ]
  },
  {
   "cell_type": "code",
   "execution_count": 41,
   "metadata": {},
   "outputs": [
    {
     "name": "stdout",
     "output_type": "stream",
     "text": [
      "Welcome back Nitish Tiwari to our website\n"
     ]
    }
   ],
   "source": [
    "olduser.greet_user()"
   ]
  },
  {
   "cell_type": "code",
   "execution_count": null,
   "metadata": {},
   "outputs": [],
   "source": []
  },
  {
   "cell_type": "code",
   "execution_count": 42,
   "metadata": {},
   "outputs": [],
   "source": [
    "olduser2 = user(\"priya\",\"harsh\",\"female\",\"priyaharsh24@gmail.com\")"
   ]
  },
  {
   "cell_type": "code",
   "execution_count": 43,
   "metadata": {},
   "outputs": [
    {
     "name": "stdout",
     "output_type": "stream",
     "text": [
      "Hello Priya Harsh\n"
     ]
    }
   ],
   "source": [
    "olduser2.describe_user()"
   ]
  },
  {
   "cell_type": "code",
   "execution_count": 44,
   "metadata": {},
   "outputs": [
    {
     "name": "stdout",
     "output_type": "stream",
     "text": [
      "Welcome back Priya Harsh to our website\n"
     ]
    }
   ],
   "source": [
    "olduser2.greet_user()"
   ]
  },
  {
   "cell_type": "code",
   "execution_count": null,
   "metadata": {},
   "outputs": [],
   "source": []
  }
 ],
 "metadata": {
  "kernelspec": {
   "display_name": "Python 3",
   "language": "python",
   "name": "python3"
  },
  "language_info": {
   "codemirror_mode": {
    "name": "ipython",
    "version": 3
   },
   "file_extension": ".py",
   "mimetype": "text/x-python",
   "name": "python",
   "nbconvert_exporter": "python",
   "pygments_lexer": "ipython3",
   "version": "3.8.3"
  }
 },
 "nbformat": 4,
 "nbformat_minor": 4
}
